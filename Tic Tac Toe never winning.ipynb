{
 "cells": [
  {
   "cell_type": "code",
   "execution_count": 14,
   "metadata": {},
   "outputs": [],
   "source": [
    "board=[' ' for x in range(10)]"
   ]
  },
  {
   "cell_type": "code",
   "execution_count": 3,
   "metadata": {},
   "outputs": [],
   "source": [
    "def printboard(board):\n",
    "    \n",
    "    print(board[7]+' | '+board[8]+' | '+board[9])\n",
    "    print('---------')\n",
    "    print(board[4]+' | '+board[5]+' | '+board[6])\n",
    "    print('---------')\n",
    "    print(board[1]+' | '+board[2]+' | '+board[3])\n",
    "    print('--------------------------------------')\n",
    "    print('--------------------------------------')"
   ]
  },
  {
   "cell_type": "code",
   "execution_count": 4,
   "metadata": {},
   "outputs": [],
   "source": [
    "def insertletter(let,pos):\n",
    "    board[pos]=let"
   ]
  },
  {
   "cell_type": "code",
   "execution_count": 5,
   "metadata": {},
   "outputs": [],
   "source": [
    "def spaceisfree(pos):\n",
    "    return board[pos] == ' '"
   ]
  },
  {
   "cell_type": "code",
   "execution_count": 6,
   "metadata": {},
   "outputs": [],
   "source": [
    "def iswinner(bo,let):\n",
    "    return (bo[7]==let and bo[8]==let and bo[9]==let) or (bo[4]==let and bo[5]==let and bo[6]==let) or (bo[1]==let and bo[2]==let and bo[3]==let) or (bo[1]==let and bo[4]==let and bo[7]==let) or (bo[2]==let and bo[8]==let and bo[5]==let) or (bo[3]==let and bo[6]==let and bo[9]==let) or (bo[1]==let and bo[5]==let and bo[9]==let) or (bo[7]==let and bo[5]==let and bo[3]==let)"
   ]
  },
  {
   "cell_type": "code",
   "execution_count": 7,
   "metadata": {},
   "outputs": [],
   "source": [
    "def playermove():\n",
    "    move=int(input(\"Please enter the position\"))\n",
    "    if spaceisfree(move):\n",
    "        insertletter('X',move)\n",
    "    else:\n",
    "        print('The space is occupied')\n",
    "        playermove()"
   ]
  },
  {
   "cell_type": "code",
   "execution_count": 8,
   "metadata": {},
   "outputs": [],
   "source": [
    "def compmove():\n",
    "    move=0\n",
    "    emptyplace=[]\n",
    "    for i in range(1,10):\n",
    "        if board[i]==' ':\n",
    "            emptyplace.append(i)\n",
    "            \n",
    "    for letter in ['O','X']:\n",
    "        for i in emptyplace:\n",
    "            boardcopy=board[:]\n",
    "            boardcopy[i]=letter\n",
    "            if iswinner(boardcopy,letter):\n",
    "                move=i\n",
    "                return move\n",
    "    \n",
    "    \n",
    "    cornersopen=[]\n",
    "    for i in emptyplace:\n",
    "        if i in [1,3,7,9]:\n",
    "            cornersopen.append(i)\n",
    "    if len(cornersopen)>0:\n",
    "        move=selectrandom(cornersopen)\n",
    "        return move\n",
    "    \n",
    "    edgesopen=[]\n",
    "    for i in emptyplace:\n",
    "        if i in [2,4,6,8]:\n",
    "            edgesopen.append(i)\n",
    "    if len(edgesopen)>0:\n",
    "        move=selectrandom(edgesopen)\n",
    "        return move\n",
    "    return move"
   ]
  },
  {
   "cell_type": "code",
   "execution_count": 9,
   "metadata": {},
   "outputs": [],
   "source": [
    "def selectrandom(l1):\n",
    "    import random\n",
    "    r=random.randrange(0,len(l1))\n",
    "    return l1[r]"
   ]
  },
  {
   "cell_type": "code",
   "execution_count": 10,
   "metadata": {},
   "outputs": [],
   "source": [
    "def isboardfull(board):\n",
    "    if board.count(' ')>1:    #1 because board[0] is always ' '\n",
    "        return False\n",
    "    else:\n",
    "        return True"
   ]
  },
  {
   "cell_type": "code",
   "execution_count": 15,
   "metadata": {},
   "outputs": [
    {
     "name": "stdout",
     "output_type": "stream",
     "text": [
      "Welcome my friends\n",
      "  |   |  \n",
      "---------\n",
      "  |   |  \n",
      "---------\n",
      "  |   |  \n",
      "--------------------------------------\n",
      "--------------------------------------\n",
      "O |   |  \n",
      "---------\n",
      "  |   |  \n",
      "---------\n",
      "  |   |  \n",
      "--------------------------------------\n",
      "--------------------------------------\n",
      "Please enter the position5\n",
      "O |   |  \n",
      "---------\n",
      "  | X |  \n",
      "---------\n",
      "  |   |  \n",
      "--------------------------------------\n",
      "--------------------------------------\n",
      "O |   |  \n",
      "---------\n",
      "  | X |  \n",
      "---------\n",
      "  |   | O\n",
      "--------------------------------------\n",
      "--------------------------------------\n",
      "Please enter the position2\n",
      "O |   |  \n",
      "---------\n",
      "  | X |  \n",
      "---------\n",
      "  | X | O\n",
      "--------------------------------------\n",
      "--------------------------------------\n",
      "O | O |  \n",
      "---------\n",
      "  | X |  \n",
      "---------\n",
      "  | X | O\n",
      "--------------------------------------\n",
      "--------------------------------------\n",
      "Please enter the position9\n",
      "O | O | X\n",
      "---------\n",
      "  | X |  \n",
      "---------\n",
      "  | X | O\n",
      "--------------------------------------\n",
      "--------------------------------------\n",
      "O | O | X\n",
      "---------\n",
      "  | X |  \n",
      "---------\n",
      "O | X | O\n",
      "--------------------------------------\n",
      "--------------------------------------\n",
      "Please enter the position4\n",
      "O | O | X\n",
      "---------\n",
      "X | X |  \n",
      "---------\n",
      "O | X | O\n",
      "--------------------------------------\n",
      "--------------------------------------\n",
      "O | O | X\n",
      "---------\n",
      "X | X | O\n",
      "---------\n",
      "O | X | O\n",
      "--------------------------------------\n",
      "--------------------------------------\n",
      "Tie game\n"
     ]
    }
   ],
   "source": [
    "# main function starts....\n",
    "print('Welcome my friends')\n",
    "printboard(board)\n",
    "\n",
    "\n",
    "\n",
    "while not(isboardfull(board)):\n",
    "    \n",
    "    \n",
    "    \n",
    "    if not(iswinner(board,'X')):\n",
    "        move=compmove()\n",
    "        if move==0:\n",
    "            print('Tie game')\n",
    "        else:\n",
    "            insertletter('O',move)\n",
    "            printboard(board)\n",
    "    else:\n",
    "        print('You won')\n",
    "        break\n",
    "    if not(isboardfull(board)):\n",
    "        \n",
    "        if not(iswinner(board,'O')):\n",
    "            playermove()\n",
    "            printboard(board)\n",
    "        else:\n",
    "            print('Computer won')\n",
    "            break\n",
    "if isboardfull(board):\n",
    "    print('Tie game')\n"
   ]
  },
  {
   "cell_type": "markdown",
   "metadata": {},
   "source": [
    "## "
   ]
  },
  {
   "cell_type": "code",
   "execution_count": null,
   "metadata": {},
   "outputs": [],
   "source": []
  }
 ],
 "metadata": {
  "kernelspec": {
   "display_name": "Python 3",
   "language": "python",
   "name": "python3"
  },
  "language_info": {
   "codemirror_mode": {
    "name": "ipython",
    "version": 3
   },
   "file_extension": ".py",
   "mimetype": "text/x-python",
   "name": "python",
   "nbconvert_exporter": "python",
   "pygments_lexer": "ipython3",
   "version": "3.6.4"
  }
 },
 "nbformat": 4,
 "nbformat_minor": 2
}
